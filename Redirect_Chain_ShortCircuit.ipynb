{
  "nbformat": 4,
  "nbformat_minor": 0,
  "metadata": {
    "colab": {
      "name": "Redirect_Chain_ShortCircuit.ipynb",
      "provenance": [],
      "authorship_tag": "ABX9TyOzr+PRfhVOqkXQb8j6OYB7",
      "include_colab_link": true
    },
    "kernelspec": {
      "name": "python3",
      "display_name": "Python 3"
    }
  },
  "cells": [
    {
      "cell_type": "markdown",
      "metadata": {
        "id": "view-in-github",
        "colab_type": "text"
      },
      "source": [
        "<a href=\"https://colab.research.google.com/github/snupet/Twittorials/blob/master/Redirect_Chain_ShortCircuit.ipynb\" target=\"_parent\"><img src=\"https://colab.research.google.com/assets/colab-badge.svg\" alt=\"Open In Colab\"/></a>"
      ]
    },
    {
      "cell_type": "markdown",
      "metadata": {
        "id": "w6qflAgvbgsU",
        "colab_type": "text"
      },
      "source": [
        "[1] Installing necessary libraries"
      ]
    },
    {
      "cell_type": "code",
      "metadata": {
        "id": "s1ERAp2W4eO4",
        "colab_type": "code",
        "colab": {}
      },
      "source": [
        "%%capture\n",
        "!pip install --upgrade -q gspread\n",
        "!pip install requests-html"
      ],
      "execution_count": 39,
      "outputs": []
    },
    {
      "cell_type": "markdown",
      "metadata": {
        "id": "xhVs-Iaibmtq",
        "colab_type": "text"
      },
      "source": [
        "[2] Authenticating user. You will be prompted with a link to get a key. Please enter the key in the box that appears below."
      ]
    },
    {
      "cell_type": "code",
      "metadata": {
        "id": "AqIJYmj_4rMM",
        "colab_type": "code",
        "colab": {}
      },
      "source": [
        "import gspread\n",
        "from google.colab import auth\n",
        "auth.authenticate_user()\n",
        "from requests_html import HTMLSession\n",
        "from oauth2client.client import GoogleCredentials\n",
        "gc = gspread.authorize(GoogleCredentials.get_application_default())"
      ],
      "execution_count": 40,
      "outputs": []
    },
    {
      "cell_type": "markdown",
      "metadata": {
        "id": "7bBeiO3lbYs7",
        "colab_type": "text"
      },
      "source": [
        "[3] Make a copy of this template sheet: https://docs.google.com/spreadsheets/d/1pcXjJ2dpG6yxoWbQgFZbNm_dkua4n6rrno-K5k6LYSc/edit?usp=sharing. Enter in your parameters on the side."
      ]
    },
    {
      "cell_type": "code",
      "metadata": {
        "id": "o_uQpSuO4spx",
        "colab_type": "code",
        "colab": {}
      },
      "source": [
        "#Replace with your spreadsheet name\n",
        "spreadsheetName = \"Template Sheet - Redirects\" #@param {type:\"string\"}\n",
        "\n",
        "sheet = gc.open(spreadsheetName).sheet1\n",
        "\n",
        "#Input the starting row:\n",
        "startRow =  2 #@param {type:\"number\"}\n",
        "\n",
        "#Input the ending row:\n",
        "endRow =  6 #@param {type:\"number\"}\n",
        "\n",
        "#Input the max number of redirects\n",
        "maxRedirects = 10 #@param {type: \"number\"}"
      ],
      "execution_count": 43,
      "outputs": []
    },
    {
      "cell_type": "markdown",
      "metadata": {
        "id": "jP_We4nEcDWJ",
        "colab_type": "text"
      },
      "source": [
        "[4] Loops through each URL in the spreadsheet and traces the redirects. Updates the spreadsheet with the page the URL redirects to, as well as the number of hops."
      ]
    },
    {
      "cell_type": "code",
      "metadata": {
        "id": "OfNIUPrk5X7k",
        "colab_type": "code",
        "colab": {
          "base_uri": "https://localhost:8080/",
          "height": 629
        },
        "outputId": "8c2b2407-fbd3-48a3-ec5c-94430aa84689"
      },
      "source": [
        "for i in range(int(startRow), int(endRow) + 1):\n",
        "  \n",
        "  session = HTMLSession()\n",
        "  url = sheet.cell(i, 1).value\n",
        "  r = session.get(url)\n",
        "\n",
        "  print(\"Current URL: \" + url)\n",
        "  \n",
        "  numHops = len(r.history)\n",
        "  statusCode = r.history[len(r.history)-1].status_code\n",
        "  \n",
        "  if maxRedirects >= 0:\n",
        "    for j in range(maxRedirects - 1, len(r.history)-1):\n",
        "      r.history.remove(r.history[j])\n",
        "  else:\n",
        "    print(\"Max redirects must be greater than 0\")\n",
        "\n",
        "  print(\"Redirects to: \" +  r.url)\n",
        "  print(\"Status code: \" + str(statusCode))\n",
        "  print(\"Amount of hops: \" + str(numHops))\n",
        "\n",
        "  sheet.update_cell(i, 2, r.url)\n",
        "  sheet.update_cell(i, 3, numHops)\n",
        "  sheet.update_cell(i, 4, statusCode)\n",
        "\n",
        "  print(\"Intermittent URLs: \")\n",
        "  for rs in r.history:\n",
        "    print(rs.url)\n",
        "\n",
        "  #Prepares sheet to update intermittent URLs by removing the first from the history, then updating the column with that first URL\n",
        "  r.history.remove(r.history[0])\n",
        "  sheet.update_cell(i, 5, sheet.cell(i, 1).value)\n",
        "\n",
        "  for rs in r.history:\n",
        "    sheet.update_cell(i, 5, sheet.cell(i, 5).value + \", \" + str(rs.url))\n",
        "  \n",
        "  print(\"\")\n"
      ],
      "execution_count": 44,
      "outputs": [
        {
          "output_type": "stream",
          "text": [
            "Current URL: https://www.budk.com/Angry-Dark-Gray-Skull-Spring-Assisted-Folding-Knife--31279\n",
            "Redirects to: https://www.budk.com/Screaming-Skull-And-Dragon-Assisted-Opening-Pocket-46101\n",
            "Status code: 301\n",
            "Amount of hops: 1\n",
            "Intermittent URLs: \n",
            "https://www.budk.com/Angry-Dark-Gray-Skull-Spring-Assisted-Folding-Knife--31279\n",
            "\n",
            "Current URL: https://www.budk.com/Timber-Wolf-Damascus-Custom-Pocket-Knife-26339\n",
            "Redirects to: https://www.budk.com/Timber-Wolf-Woodsong-Damascus-Pocket-Knife-with-Genuine-Leather-Sheath-Walnut-Handle-Scales-40471\n",
            "Status code: 301\n",
            "Amount of hops: 1\n",
            "Intermittent URLs: \n",
            "https://www.budk.com/Timber-Wolf-Damascus-Custom-Pocket-Knife-26339\n",
            "\n",
            "Current URL: https://www.budk.com/Buck-PakLite-Orange-Traction-Skinner-Knife-Small-27975\n",
            "Redirects to: https://www.budk.com/Hunting-Knives-4376\n",
            "Status code: 301\n",
            "Amount of hops: 1\n",
            "Intermittent URLs: \n",
            "https://www.budk.com/Buck-PakLite-Orange-Traction-Skinner-Knife-Small-27975\n",
            "\n",
            "Current URL: https://www.budk.com/Smith-and-Wesson-Extreme-Ops-Black-Tanto-Folding-Knife-15632\n",
            "Redirects to: https://www.budk.com/Smith-Wesson-Black-Ops-Tanto-Assisted-Opening-Pocket-Knife-19675\n",
            "Status code: 301\n",
            "Amount of hops: 1\n",
            "Intermittent URLs: \n",
            "https://www.budk.com/Smith-and-Wesson-Extreme-Ops-Black-Tanto-Folding-Knife-15632\n",
            "\n",
            "Current URL: https://www.housebrand.com/fjewriojfwe\n",
            "Redirects to: https://www.housebrand.com/special/store/\n",
            "Status code: 302\n",
            "Amount of hops: 4\n",
            "Intermittent URLs: \n",
            "https://www.housebrand.com/fjewriojfwe\n",
            "http://www.housebrand.com/\n",
            "\n"
          ],
          "name": "stdout"
        }
      ]
    }
  ]
}