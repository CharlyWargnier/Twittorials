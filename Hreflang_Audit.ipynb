{
  "nbformat": 4,
  "nbformat_minor": 0,
  "metadata": {
    "colab": {
      "name": "Hreflang_Audit.ipynb",
      "provenance": [],
      "authorship_tag": "ABX9TyOM5JFC/iSCmRK95Dey+HSq",
      "include_colab_link": true
    },
    "kernelspec": {
      "name": "python3",
      "display_name": "Python 3"
    }
  },
  "cells": [
    {
      "cell_type": "markdown",
      "metadata": {
        "id": "view-in-github",
        "colab_type": "text"
      },
      "source": [
        "<a href=\"https://colab.research.google.com/github/snupet/Twittorials/blob/master/Hreflang_Audit.ipynb\" target=\"_parent\"><img src=\"https://colab.research.google.com/assets/colab-badge.svg\" alt=\"Open In Colab\"/></a>"
      ]
    },
    {
      "cell_type": "markdown",
      "metadata": {
        "id": "uv0r7Mt_BM6p",
        "colab_type": "text"
      },
      "source": [
        "[1] Imports necessary libraries"
      ]
    },
    {
      "cell_type": "code",
      "metadata": {
        "id": "65fDpGTWNqky",
        "colab_type": "code",
        "colab": {}
      },
      "source": [
        "%%capture\n",
        "!pip install requests-html\n",
        "!pip install bs4\n",
        "!pip install termcolor"
      ],
      "execution_count": 1,
      "outputs": []
    },
    {
      "cell_type": "code",
      "metadata": {
        "id": "l3TfegUBA4qH",
        "colab_type": "code",
        "colab": {}
      },
      "source": [
        "from bs4 import BeautifulSoup\n",
        "from requests_html import HTMLSession\n",
        "from termcolor import colored"
      ],
      "execution_count": 2,
      "outputs": []
    },
    {
      "cell_type": "markdown",
      "metadata": {
        "id": "8tPqIy5bBRmT",
        "colab_type": "text"
      },
      "source": [
        "[2] Enter your XML sitemap URL here"
      ]
    },
    {
      "cell_type": "code",
      "metadata": {
        "id": "XQVWivN8A7FS",
        "colab_type": "code",
        "colab": {}
      },
      "source": [
        "sitemapURL = \"\" #@param {type:\"string\"}"
      ],
      "execution_count": 3,
      "outputs": []
    },
    {
      "cell_type": "markdown",
      "metadata": {
        "id": "3vUvRbsKBVdY",
        "colab_type": "text"
      },
      "source": [
        "[3] Initializes list of valid language and country codes"
      ]
    },
    {
      "cell_type": "code",
      "metadata": {
        "id": "mxcdsnkeA7L3",
        "colab_type": "code",
        "colab": {}
      },
      "source": [
        "languages = ['ab','aa','af','ak','sq','am','ar','an','hy','as','av','ae',\n",
        "             'ay','az','bm','ba','eu','be','bn','bh','bi','bs','br','bg',\n",
        "             'my','ca','ch','ce','ny','zh','zh-Hans','zh-Hant','cv','kw',\n",
        "             'co','cr','hr','cs','da','dv','nl','dz','en','eo','et','ee',\n",
        "             'fo','fj','fi','ff','gl','gd','gv','ka','de','el','kl','gn',\n",
        "             'gu','ht','ha','he','hz','hi','ho','hu','is','io','ig','id',\n",
        "             'in','ia','ie','iu','ik','ga','it','ja','jv','kl','kn','kr',\n",
        "             'ks','kk','km','ki','rw','rn','ky','kv','kg','ko','ku','kj',\n",
        "             'lo','la','lv','li','ln','lt','lu','lg','lb','gv','mk','mg',\n",
        "             'ms','ml','mt','mi','mr','mh','mo','mn','na','nv','ng','nd',\n",
        "             'ne','no','nb','nn','ii','oc','oj','cu','or','om','os','pi',\n",
        "             'ps','fa','pl','pt','pa','qu','rm','ro','ru','se','sm','sg',\n",
        "             'sa','sr','sh','st','tn','sn','sd','si','ss','sk','sl','so',\n",
        "             'nr','es','su','sw','sv','tl','ty','tg','ta','tt','te','th',\n",
        "             'bo','ti','to','ts','tr','tk','tw','ug','uk','ur','uz','ve',\n",
        "             'vi','vo','wa','cy','wo','fy','xh','yi','ji','za','zu']\n",
        "\n",
        "countries = ['af','al','dz','as','ad','ao','aq','ag','ar','am','aw','au',\n",
        "             'at','az','bs','bh','bd','bb','by','be','bz','bj','bm','bt',\n",
        "             'bo','ba','bw','bv','br','io','bn','bg','bf','bi','kh','cm',\n",
        "             'ca','cv','ky','cf','td','cl','cn','cx','cc','co','km','cg',\n",
        "             'cd','ck','cr','ci','hr','cu','cy','cz','dk','dj','dm','do',\n",
        "             'ec','eg','sv','gq','er','ee','et','fk','fo','fj','fi','fr',\n",
        "             'gf','pf','tf','ga','gm','ge','de','gh','gi','gr','gl','gd',\n",
        "             'gp','gu','gt','gn','gw','gy','ht','hm','hn','hk','hu','is',\n",
        "             'in','id','ir','iq','ie','il','it','jm','jp','jo','kz','ke',\n",
        "             'ki','kp','kr','kw','kg','la','lv','lb','ls','lr','ly','li',\n",
        "             'lt','lu','mo','mk','mg','mw','my','mv','ml','mt','mh','mq',\n",
        "             'mr','mu','yt','mx','fm','md','mc','mn','me','ms','ma','mz',\n",
        "             'mm','na','nr','np','nl','an','nc','nz','ni','ne','ng','nu',\n",
        "             'nf','mp','no','om','pk','ps','pw','pa','pg','py','pe','ph',\n",
        "             'pn','pl','pt','pr','qa','re','ro','ru','rw','sh','kn','lc',\n",
        "             'pm','vc','ws','sm','st','sa','sn','rs','sc','sl','sg','sk',\n",
        "             'si','sb','so','za','gs','es','lk','sd','sr','sj','sz','se',\n",
        "             'ch','sy','tw','tj','tz','th','tl','tg','tk','to','tt','tn',\n",
        "             'tr','tm','tc','tv','ug','ua','ae','gb','us','um','uy','uz',\n",
        "             'vu','ve','vn','vg','vi','wf','eh','ye','zm','zw']\n"
      ],
      "execution_count": 4,
      "outputs": []
    },
    {
      "cell_type": "markdown",
      "metadata": {
        "id": "PKAvk6M8BZ-w",
        "colab_type": "text"
      },
      "source": [
        "[4] Gathers HTML from the URL inputted above"
      ]
    },
    {
      "cell_type": "code",
      "metadata": {
        "id": "GC-Rp_M_A7QX",
        "colab_type": "code",
        "colab": {}
      },
      "source": [
        "session = HTMLSession()\n",
        "\n",
        "r = session.get(sitemapURL)\n",
        "soup = BeautifulSoup(r.text, 'html.parser')\n",
        "\n",
        "urlTags = dict()\n",
        "problemURLs = list()\n",
        "\n",
        "sect = soup.find_all('url')"
      ],
      "execution_count": 5,
      "outputs": []
    },
    {
      "cell_type": "markdown",
      "metadata": {
        "id": "M8oXBUZOB0AV",
        "colab_type": "text"
      },
      "source": [
        "[5] Iterates through HTML and finds hreflang tags, then checks the validity of both the language and country codes"
      ]
    },
    {
      "cell_type": "code",
      "metadata": {
        "id": "N1TFJwr5BMAx",
        "colab_type": "code",
        "colab": {}
      },
      "source": [
        "for s in sect:\n",
        "  check = True\n",
        "  hreflangs = list()\n",
        "  url = s.find_all('loc')\n",
        "  l = \"\"\n",
        "  for x in url:\n",
        "    if x != None:\n",
        "      l = x.get_text()\n",
        "  print(f\"Url: {l}\")\n",
        "  xhtml = s.find_all('xhtml:link')\n",
        "  for x in xhtml:\n",
        "    href = x.get(\"hreflang\")\n",
        "    hreflangs.append(href)\n",
        "    href = str(href)\n",
        "    language = href[0:href.find(\"-\")]\n",
        "    country = href[href.find('-')+1:len(href)]\n",
        "    if language not in languages or country not in countries:\n",
        "      problemURLs.append(l)\n",
        "      check = False\n",
        "  urlTags[l] = hreflangs\n",
        "  if check:\n",
        "    print(colored(hreflangs, \"green\"))\n",
        "  else:\n",
        "    print(colored(hreflangs, \"red\"))\n",
        "  print()\n",
        "\n",
        "if not problemURLs:\n",
        "  print(\"No URLs in the sitemap have an incorrect hreflang tag!\")\n",
        "else:\n",
        "  print(\"Here are the URLs with incorrect hreflang tags:\")\n",
        "  print(problemURLs)"
      ],
      "execution_count": null,
      "outputs": []
    }
  ]
}