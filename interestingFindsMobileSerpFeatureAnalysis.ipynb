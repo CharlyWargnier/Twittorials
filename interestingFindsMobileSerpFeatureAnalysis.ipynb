{
  "nbformat": 4,
  "nbformat_minor": 0,
  "metadata": {
    "colab": {
      "name": "interestingFindsMobileSerpFeatureAnalysis.ipynb",
      "provenance": [],
      "collapsed_sections": [],
      "toc_visible": true,
      "authorship_tag": "ABX9TyOUqi41Bh8X8Vta9Gds37jr",
      "include_colab_link": true
    },
    "kernelspec": {
      "name": "python3",
      "display_name": "Python 3"
    }
  },
  "cells": [
    {
      "cell_type": "markdown",
      "metadata": {
        "id": "view-in-github",
        "colab_type": "text"
      },
      "source": [
        "<a href=\"https://colab.research.google.com/github/drohe/Twittorials/blob/master/interestingFindsMobileSerpFeatureAnalysis.ipynb\" target=\"_parent\"><img src=\"https://colab.research.google.com/assets/colab-badge.svg\" alt=\"Open In Colab\"/></a>"
      ]
    },
    {
      "cell_type": "markdown",
      "metadata": {
        "id": "p_QOMKu2xIui"
      },
      "source": [
        ""
      ]
    },
    {
      "cell_type": "markdown",
      "metadata": {
        "id": "Imk6jHcRxMgf"
      },
      "source": [
        "# Understanding Interesting Finds Features in Mobile SERPs"
      ]
    },
    {
      "cell_type": "markdown",
      "metadata": {
        "id": "kkYUAeo81Y83"
      },
      "source": [
        "First, let's install Selenium and load up the Chrome webdriver!"
      ]
    },
    {
      "cell_type": "code",
      "metadata": {
        "id": "wTHtwDec1fdi",
        "outputId": "b07cd01b-00a1-457d-9871-ed60b16f862b",
        "colab": {
          "base_uri": "https://localhost:8080/"
        }
      },
      "source": [
        "!pip install selenium\n",
        "!apt-get update # to update ubuntu to correctly run apt install\n",
        "!apt install chromium-chromedriver\n",
        "!cp /usr/lib/chromium-browser/chromedriver /usr/bin"
      ],
      "execution_count": null,
      "outputs": [
        {
          "output_type": "stream",
          "text": [
            "Collecting selenium\n",
            "\u001b[?25l  Downloading https://files.pythonhosted.org/packages/80/d6/4294f0b4bce4de0abf13e17190289f9d0613b0a44e5dd6a7f5ca98459853/selenium-3.141.0-py2.py3-none-any.whl (904kB)\n",
            "\u001b[K     |████████████████████████████████| 911kB 2.8MB/s \n",
            "\u001b[?25hRequirement already satisfied: urllib3 in /usr/local/lib/python3.6/dist-packages (from selenium) (1.24.3)\n",
            "Installing collected packages: selenium\n",
            "Successfully installed selenium-3.141.0\n",
            "Get:1 https://cloud.r-project.org/bin/linux/ubuntu bionic-cran40/ InRelease [3,626 B]\n",
            "Ign:2 https://developer.download.nvidia.com/compute/cuda/repos/ubuntu1804/x86_64  InRelease\n",
            "Get:3 http://security.ubuntu.com/ubuntu bionic-security InRelease [88.7 kB]\n",
            "Hit:4 http://archive.ubuntu.com/ubuntu bionic InRelease\n",
            "Hit:5 http://ppa.launchpad.net/c2d4u.team/c2d4u4.0+/ubuntu bionic InRelease\n",
            "Ign:6 https://developer.download.nvidia.com/compute/machine-learning/repos/ubuntu1804/x86_64  InRelease\n",
            "Get:7 https://developer.download.nvidia.com/compute/cuda/repos/ubuntu1804/x86_64  Release [697 B]\n",
            "Hit:8 https://developer.download.nvidia.com/compute/machine-learning/repos/ubuntu1804/x86_64  Release\n",
            "Get:9 https://developer.download.nvidia.com/compute/cuda/repos/ubuntu1804/x86_64  Release.gpg [836 B]\n",
            "Get:10 http://archive.ubuntu.com/ubuntu bionic-updates InRelease [88.7 kB]\n",
            "Hit:11 http://ppa.launchpad.net/graphics-drivers/ppa/ubuntu bionic InRelease\n",
            "Get:12 http://archive.ubuntu.com/ubuntu bionic-backports InRelease [74.6 kB]\n",
            "Ign:14 https://developer.download.nvidia.com/compute/cuda/repos/ubuntu1804/x86_64  Packages\n",
            "Get:14 https://developer.download.nvidia.com/compute/cuda/repos/ubuntu1804/x86_64  Packages [405 kB]\n",
            "Get:15 http://security.ubuntu.com/ubuntu bionic-security/universe amd64 Packages [1,353 kB]\n",
            "Get:16 http://archive.ubuntu.com/ubuntu bionic-updates/main amd64 Packages [2,165 kB]\n",
            "Get:17 http://security.ubuntu.com/ubuntu bionic-security/main amd64 Packages [1,748 kB]\n",
            "Get:18 http://archive.ubuntu.com/ubuntu bionic-updates/universe amd64 Packages [2,115 kB]\n",
            "Fetched 8,043 kB in 3s (2,819 kB/s)\n",
            "Reading package lists... Done\n",
            "Reading package lists... Done\n",
            "Building dependency tree       \n",
            "Reading state information... Done\n",
            "The following additional packages will be installed:\n",
            "  chromium-browser chromium-browser-l10n chromium-codecs-ffmpeg-extra\n",
            "Suggested packages:\n",
            "  webaccounts-chromium-extension unity-chromium-extension adobe-flashplugin\n",
            "The following NEW packages will be installed:\n",
            "  chromium-browser chromium-browser-l10n chromium-chromedriver\n",
            "  chromium-codecs-ffmpeg-extra\n",
            "0 upgraded, 4 newly installed, 0 to remove and 12 not upgraded.\n",
            "Need to get 80.1 MB of archives.\n",
            "After this operation, 271 MB of additional disk space will be used.\n",
            "Get:1 http://archive.ubuntu.com/ubuntu bionic-updates/universe amd64 chromium-codecs-ffmpeg-extra amd64 86.0.4240.75-0ubuntu0.18.04.1 [1,127 kB]\n",
            "Get:2 http://archive.ubuntu.com/ubuntu bionic-updates/universe amd64 chromium-browser amd64 86.0.4240.75-0ubuntu0.18.04.1 [70.9 MB]\n",
            "Get:3 http://archive.ubuntu.com/ubuntu bionic-updates/universe amd64 chromium-browser-l10n all 86.0.4240.75-0ubuntu0.18.04.1 [3,579 kB]\n",
            "Get:4 http://archive.ubuntu.com/ubuntu bionic-updates/universe amd64 chromium-chromedriver amd64 86.0.4240.75-0ubuntu0.18.04.1 [4,486 kB]\n",
            "Fetched 80.1 MB in 3s (24.4 MB/s)\n",
            "Selecting previously unselected package chromium-codecs-ffmpeg-extra.\n",
            "(Reading database ... 144628 files and directories currently installed.)\n",
            "Preparing to unpack .../chromium-codecs-ffmpeg-extra_86.0.4240.75-0ubuntu0.18.04.1_amd64.deb ...\n",
            "Unpacking chromium-codecs-ffmpeg-extra (86.0.4240.75-0ubuntu0.18.04.1) ...\n",
            "Selecting previously unselected package chromium-browser.\n",
            "Preparing to unpack .../chromium-browser_86.0.4240.75-0ubuntu0.18.04.1_amd64.deb ...\n",
            "Unpacking chromium-browser (86.0.4240.75-0ubuntu0.18.04.1) ...\n",
            "Selecting previously unselected package chromium-browser-l10n.\n",
            "Preparing to unpack .../chromium-browser-l10n_86.0.4240.75-0ubuntu0.18.04.1_all.deb ...\n",
            "Unpacking chromium-browser-l10n (86.0.4240.75-0ubuntu0.18.04.1) ...\n",
            "Selecting previously unselected package chromium-chromedriver.\n",
            "Preparing to unpack .../chromium-chromedriver_86.0.4240.75-0ubuntu0.18.04.1_amd64.deb ...\n",
            "Unpacking chromium-chromedriver (86.0.4240.75-0ubuntu0.18.04.1) ...\n",
            "Setting up chromium-codecs-ffmpeg-extra (86.0.4240.75-0ubuntu0.18.04.1) ...\n",
            "Setting up chromium-browser (86.0.4240.75-0ubuntu0.18.04.1) ...\n",
            "update-alternatives: using /usr/bin/chromium-browser to provide /usr/bin/x-www-browser (x-www-browser) in auto mode\n",
            "update-alternatives: using /usr/bin/chromium-browser to provide /usr/bin/gnome-www-browser (gnome-www-browser) in auto mode\n",
            "Setting up chromium-chromedriver (86.0.4240.75-0ubuntu0.18.04.1) ...\n",
            "Setting up chromium-browser-l10n (86.0.4240.75-0ubuntu0.18.04.1) ...\n",
            "Processing triggers for hicolor-icon-theme (0.17-2) ...\n",
            "Processing triggers for mime-support (3.60ubuntu1) ...\n",
            "Processing triggers for man-db (2.8.3-2ubuntu0.1) ...\n",
            "cp: '/usr/lib/chromium-browser/chromedriver' and '/usr/bin/chromedriver' are the same file\n"
          ],
          "name": "stdout"
        }
      ]
    },
    {
      "cell_type": "markdown",
      "metadata": {
        "id": "IhbGCUqD1otr"
      },
      "source": [
        "##Mount Your Google Drive\n",
        "In Google Drive, access your Colab Notebooks folder and create a new folder called \"Interesting Finds\"\n",
        "\n",
        "Within that folder, you can upload a .csv file of your list of queries to run. Each query should be row. Save the file as \"queries.csv\" and upload it to your \"Colab Notebooks > Interesting Finds\" Drive folder."
      ]
    },
    {
      "cell_type": "code",
      "metadata": {
        "id": "4GYfwlFC3N9A",
        "outputId": "29254fd0-b5bc-485a-eb0b-36a406a32b09",
        "colab": {
          "base_uri": "https://localhost:8080/"
        }
      },
      "source": [
        "from google.colab import drive\n",
        "drive.mount('/content/gdrive')"
      ],
      "execution_count": null,
      "outputs": [
        {
          "output_type": "stream",
          "text": [
            "Mounted at /content/gdrive\n"
          ],
          "name": "stdout"
        }
      ]
    },
    {
      "cell_type": "markdown",
      "metadata": {
        "id": "qgwp-7tije68"
      },
      "source": [
        "Once the drive is mounted, select the folder icon in the left menu of the notebook and then open the \"gdrive\" folder. Expand \"My Drive\" and then \"Colab Notebooks\" to ensure that your queries.csv file is saved at the path of '/content/gdrive/My Drive/Colab Notebooks/Interesting Finds/queries.csv'. If not, right click to copy the path and replace it in the \"with open\" line below."
      ]
    },
    {
      "cell_type": "markdown",
      "metadata": {
        "id": "pJNuxV_y4fkV"
      },
      "source": [
        "##Execute the script"
      ]
    },
    {
      "cell_type": "code",
      "metadata": {
        "id": "cMexXU_nxHXn",
        "outputId": "57320cca-33a7-4ef0-ae84-0ef72fe51fb4",
        "colab": {
          "base_uri": "https://localhost:8080/",
          "height": 1000
        }
      },
      "source": [
        "import csv\n",
        "import os\n",
        "import requests\n",
        "import urllib\n",
        "import sys\n",
        "from selenium import webdriver\n",
        "from selenium.webdriver.common.keys import Keys\n",
        "from selenium.webdriver.common.by import By\n",
        "from selenium.webdriver.support.ui import WebDriverWait\n",
        "from selenium.webdriver.support import expected_conditions as EC\n",
        "\n",
        "### START THE SET UP YOUR CHROME DRIVER\n",
        "mobile_emulation = {'deviceName': 'Pixel 2'}\n",
        "chrome_options = webdriver.ChromeOptions()\n",
        "chrome_options.add_experimental_option(\"mobileEmulation\", mobile_emulation)\n",
        "chrome_options.add_argument('--headless')\n",
        "chrome_options.add_argument('--no-sandbox')\n",
        "chrome_options.add_argument('--disable-dev-shm-usage')\n",
        "sys.path.insert(0,'/usr/lib/chromium-browser/chromedriver')\n",
        "browser = webdriver.Chrome('chromedriver',options=chrome_options)\n",
        "### END CHROME DRIVER SETUP\n",
        "\n",
        "### START THE SET UP FOR YOUR OUTPUT\n",
        "os.mkdir('/content/Interesting Finds/')\n",
        "outputdir = '/content/Interesting Finds/'\n",
        "f = open('/content/Interesting Finds/output.csv', \"w+\", newline=\"\\n\", encoding=\"utf-8-sig\")\n",
        "fw = csv.writer(f)\n",
        "fw.writerow([\"Query\",\"Interesting Finds\\?\", \"Finds Links\"])\n",
        "### END THE OUTPUTS SETUP\n",
        "\n",
        "##IMPORT YOUR QUERIES.CSV\n",
        "with open('/content/gdrive/My Drive/Colab Notebooks/Interesting Finds/queries.csv',newline='') as r:\n",
        "    reader = csv.reader(r)\n",
        "    queries = list(reader)\n",
        "print(queries)\n",
        "### OPEN GOOGLE.COM VIA YOUR CHROME DRIVER (NAMED BROWSER) AND RESIZE THE WINDOW (TIED TO THE PIXEL 2) TO HELP WITH SCREENSHOTS\n",
        "browser.get('https://www.google.com')\n",
        "browser.set_window_size(360,640)\n",
        "\n",
        "### BEGIN THE LOOP THROUGH EACH QUERY OF YOUR QUERIES ARRAY\n",
        "for query in queries:\n",
        "  query = str(query[0])\n",
        "  print('running ' + query)\n",
        "  e = browser.find_element_by_name(\"q\") #Find the input field to have Selenium type in the query\n",
        "  e.clear()\n",
        "  e.send_keys(query) #Selenium\n",
        "  e = browser.find_element_by_name(\"q\")\n",
        "  e.send_keys(Keys.RETURN)\n",
        "  e = browser.find_element_by_name(\"q\")\n",
        "  e = WebDriverWait(browser, 10).until(\n",
        "        EC.presence_of_element_located((By.ID, \"botstuff\"))\n",
        "    )\n",
        "  body = browser.find_elements_by_tag_name('body')[0] #This is used for screenshots further down\n",
        "\n",
        "#Interesting Finds\n",
        "  if browser.find_elements_by_css_selector('g-card.I7zR5'):\n",
        "    interestingFinds = True\n",
        "    findsCode = browser.find_elements_by_css_selector('g-card.I7zR5')\n",
        "    findsLinks = []\n",
        "    for card in findsCode:\n",
        "        links = card.find_elements_by_css_selector('div.mnr-c div div div a')\n",
        "        for link in links:\n",
        "            href = link.get_attribute('href')\n",
        "            amp = False\n",
        "            if link.get_attribute('class'):\n",
        "                classes = link.get_attribute('class')\n",
        "                if 'amp_r' in classes:\n",
        "                    amp = True\n",
        "            link = {'link': href, 'amp': amp}\n",
        "            findsLinks.append(link)\n",
        "  else:\n",
        "    interestingFinds = False\n",
        "    findsLinks = \"\"\n",
        "\n",
        "  fw.writerow([query,interestingFinds,findsLinks]) #create row in CSV\n",
        "\n",
        "\n",
        "### START SCREENSHOTS\n",
        "  imageName = query.replace(' ','-')\n",
        "  browser.save_screenshot(outputdir + imageName + '.png')\n",
        "  totalLength = body.size['height']\n",
        "  lastClip = totalLength -500\n",
        "  clipsNeeded = round(lastClip/500)\n",
        "  i = 0\n",
        "  clipHeight = 500\n",
        "  while i < clipsNeeded:\n",
        "    browser.execute_script('window.scrollTo(360,arguments[0])',clipHeight)\n",
        "    clipNum = str(i).replace(' ','')\n",
        "    browser.save_screenshot(outputdir + imageName + clipNum + '.png')\n",
        "    clipHeight = clipHeight + 500\n",
        "    i += 1\n",
        "f.close()\n",
        "print('ready to zip')\n",
        "!zip -r /content/interestingFinds.zip '/content/Interesting Finds/'\n",
        "from google.colab import files\n",
        "files.download('/content/interestingFinds.zip')\n"
      ],
      "execution_count": null,
      "outputs": [
        {
          "output_type": "stream",
          "text": [
            "[['\\ufeffbest face masks'], ['bourbon'], ['2020 toys'], ['2020 christmas gifts'], ['headsets for zoom']]\n",
            "running ﻿best face masks\n",
            "running bourbon\n",
            "running 2020 toys\n",
            "running 2020 christmas gifts\n",
            "running headsets for zoom\n",
            "ready to zip\n",
            "  adding: content/Interesting Finds/ (stored 0%)\n",
            "  adding: content/Interesting Finds/2020-christmas-gifts3.png (deflated 4%)\n",
            "  adding: content/Interesting Finds/﻿best-face-masks.png (deflated 2%)\n",
            "  adding: content/Interesting Finds/2020-toys1.png (deflated 3%)\n",
            "  adding: content/Interesting Finds/headsets-for-zoom2.png (deflated 5%)\n",
            "  adding: content/Interesting Finds/2020-christmas-gifts.png (deflated 2%)\n",
            "  adding: content/Interesting Finds/2020-christmas-gifts2.png (deflated 2%)\n",
            "  adding: content/Interesting Finds/bourbon1.png (deflated 4%)\n",
            "  adding: content/Interesting Finds/﻿best-face-masks0.png (deflated 4%)\n",
            "  adding: content/Interesting Finds/2020-christmas-gifts0.png (deflated 2%)\n",
            "  adding: content/Interesting Finds/2020-christmas-gifts7.png (deflated 10%)\n",
            "  adding: content/Interesting Finds/bourbon0.png (deflated 3%)\n",
            "  adding: content/Interesting Finds/headsets-for-zoom1.png (deflated 4%)\n",
            "  adding: content/Interesting Finds/2020-toys7.png (deflated 5%)\n",
            "  adding: content/Interesting Finds/﻿best-face-masks4.png (deflated 3%)\n",
            "  adding: content/Interesting Finds/﻿best-face-masks6.png (deflated 10%)\n",
            "  adding: content/Interesting Finds/headsets-for-zoom5.png (deflated 3%)\n",
            "  adding: content/Interesting Finds/bourbon10.png (deflated 10%)\n",
            "  adding: content/Interesting Finds/2020-toys2.png (deflated 5%)\n",
            "  adding: content/Interesting Finds/2020-christmas-gifts1.png (deflated 3%)\n",
            "  adding: content/Interesting Finds/headsets-for-zoom3.png (deflated 3%)\n",
            "  adding: content/Interesting Finds/headsets-for-zoom4.png (deflated 2%)\n",
            "  adding: content/Interesting Finds/2020-christmas-gifts5.png (deflated 2%)\n",
            "  adding: content/Interesting Finds/2020-toys8.png (deflated 10%)\n",
            "  adding: content/Interesting Finds/2020-toys3.png (deflated 3%)\n",
            "  adding: content/Interesting Finds/headsets-for-zoom6.png (deflated 5%)\n",
            "  adding: content/Interesting Finds/bourbon6.png (deflated 1%)\n",
            "  adding: content/Interesting Finds/bourbon.png (deflated 5%)\n",
            "  adding: content/Interesting Finds/2020-toys6.png (deflated 3%)\n",
            "  adding: content/Interesting Finds/2020-toys4.png (deflated 2%)\n",
            "  adding: content/Interesting Finds/output.csv (deflated 55%)\n",
            "  adding: content/Interesting Finds/﻿best-face-masks1.png (deflated 3%)\n",
            "  adding: content/Interesting Finds/bourbon7.png (deflated 1%)\n",
            "  adding: content/Interesting Finds/headsets-for-zoom8.png (deflated 10%)\n",
            "  adding: content/Interesting Finds/﻿best-face-masks3.png (deflated 5%)\n",
            "  adding: content/Interesting Finds/2020-christmas-gifts4.png (deflated 2%)\n",
            "  adding: content/Interesting Finds/bourbon5.png (deflated 2%)\n",
            "  adding: content/Interesting Finds/bourbon9.png (deflated 4%)\n",
            "  adding: content/Interesting Finds/bourbon8.png (deflated 2%)\n",
            "  adding: content/Interesting Finds/2020-toys0.png (deflated 2%)\n",
            "  adding: content/Interesting Finds/bourbon4.png (deflated 2%)\n",
            "  adding: content/Interesting Finds/bourbon2.png (deflated 2%)\n",
            "  adding: content/Interesting Finds/﻿best-face-masks5.png (deflated 3%)\n",
            "  adding: content/Interesting Finds/2020-toys5.png (deflated 3%)\n",
            "  adding: content/Interesting Finds/headsets-for-zoom7.png (deflated 6%)\n",
            "  adding: content/Interesting Finds/headsets-for-zoom.png (deflated 3%)\n",
            "  adding: content/Interesting Finds/bourbon3.png (deflated 2%)\n",
            "  adding: content/Interesting Finds/headsets-for-zoom0.png (deflated 4%)\n",
            "  adding: content/Interesting Finds/2020-toys.png (deflated 2%)\n",
            "  adding: content/Interesting Finds/﻿best-face-masks2.png (deflated 3%)\n",
            "  adding: content/Interesting Finds/2020-christmas-gifts6.png (deflated 5%)\n"
          ],
          "name": "stdout"
        },
        {
          "output_type": "display_data",
          "data": {
            "application/javascript": [
              "\n",
              "    async function download(id, filename, size) {\n",
              "      if (!google.colab.kernel.accessAllowed) {\n",
              "        return;\n",
              "      }\n",
              "      const div = document.createElement('div');\n",
              "      const label = document.createElement('label');\n",
              "      label.textContent = `Downloading \"${filename}\": `;\n",
              "      div.appendChild(label);\n",
              "      const progress = document.createElement('progress');\n",
              "      progress.max = size;\n",
              "      div.appendChild(progress);\n",
              "      document.body.appendChild(div);\n",
              "\n",
              "      const buffers = [];\n",
              "      let downloaded = 0;\n",
              "\n",
              "      const channel = await google.colab.kernel.comms.open(id);\n",
              "      // Send a message to notify the kernel that we're ready.\n",
              "      channel.send({})\n",
              "\n",
              "      for await (const message of channel.messages) {\n",
              "        // Send a message to notify the kernel that we're ready.\n",
              "        channel.send({})\n",
              "        if (message.buffers) {\n",
              "          for (const buffer of message.buffers) {\n",
              "            buffers.push(buffer);\n",
              "            downloaded += buffer.byteLength;\n",
              "            progress.value = downloaded;\n",
              "          }\n",
              "        }\n",
              "      }\n",
              "      const blob = new Blob(buffers, {type: 'application/binary'});\n",
              "      const a = document.createElement('a');\n",
              "      a.href = window.URL.createObjectURL(blob);\n",
              "      a.download = filename;\n",
              "      div.appendChild(a);\n",
              "      a.click();\n",
              "      div.remove();\n",
              "    }\n",
              "  "
            ],
            "text/plain": [
              "<IPython.core.display.Javascript object>"
            ]
          },
          "metadata": {
            "tags": []
          }
        },
        {
          "output_type": "display_data",
          "data": {
            "application/javascript": [
              "download(\"download_f7268fcb-99ad-4fd8-9e85-4c8a4276fbd7\", \"interestingFinds.zip\", 22751512)"
            ],
            "text/plain": [
              "<IPython.core.display.Javascript object>"
            ]
          },
          "metadata": {
            "tags": []
          }
        }
      ]
    },
    {
      "cell_type": "code",
      "metadata": {
        "id": "v6YBuzIdyPow"
      },
      "source": [
        ""
      ],
      "execution_count": null,
      "outputs": []
    }
  ]
}