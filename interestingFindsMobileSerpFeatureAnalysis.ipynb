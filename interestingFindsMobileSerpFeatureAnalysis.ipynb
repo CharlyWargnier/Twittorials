{
  "nbformat": 4,
  "nbformat_minor": 0,
  "metadata": {
    "colab": {
      "name": "interestingFindsMobileSerpFeatureAnalysis.ipynb",
      "provenance": [],
      "collapsed_sections": [],
      "toc_visible": true,
      "authorship_tag": "ABX9TyMnMShE024oKyMftbmMe490",
      "include_colab_link": true
    },
    "kernelspec": {
      "name": "python3",
      "display_name": "Python 3"
    }
  },
  "cells": [
    {
      "cell_type": "markdown",
      "metadata": {
        "id": "view-in-github",
        "colab_type": "text"
      },
      "source": [
        "<a href=\"https://colab.research.google.com/github/drohe/Twittorials/blob/master/interestingFindsMobileSerpFeatureAnalysis.ipynb\" target=\"_parent\"><img src=\"https://colab.research.google.com/assets/colab-badge.svg\" alt=\"Open In Colab\"/></a>"
      ]
    },
    {
      "cell_type": "markdown",
      "metadata": {
        "id": "Imk6jHcRxMgf"
      },
      "source": [
        "# Understanding Interesting Finds Features in Mobile SERPs"
      ]
    },
    {
      "cell_type": "markdown",
      "metadata": {
        "id": "kkYUAeo81Y83"
      },
      "source": [
        "First, let's install Selenium and load up the Chrome webdriver!"
      ]
    },
    {
      "cell_type": "code",
      "metadata": {
        "id": "wTHtwDec1fdi"
      },
      "source": [
        "%%capture\n",
        "!pip install selenium\n",
        "!apt-get update # to update ubuntu to correctly run apt install\n",
        "!apt install chromium-chromedriver\n",
        "!ln -s /usr/lib/chromium-browser/chromedriver /usr/bin"
      ],
      "execution_count": 1,
      "outputs": []
    },
    {
      "cell_type": "markdown",
      "metadata": {
        "id": "IhbGCUqD1otr"
      },
      "source": [
        "##Mount Your Google Drive\n",
        "In Google Drive, access your Colab Notebooks folder and create a new folder called \"Interesting Finds\"\n",
        "\n",
        "Within that folder, you can upload a .csv file of your list of queries to run. Each query should be row. Save the file as \"queries.csv\" and upload it to your \"Colab Notebooks > Interesting Finds\" Drive folder."
      ]
    },
    {
      "cell_type": "code",
      "metadata": {
        "id": "4GYfwlFC3N9A",
        "outputId": "8e9f5a15-a381-4ff2-b3a6-20e2c9262240",
        "colab": {
          "base_uri": "https://localhost:8080/"
        }
      },
      "source": [
        "from google.colab import drive\n",
        "drive.mount('/content/gdrive')"
      ],
      "execution_count": 2,
      "outputs": [
        {
          "output_type": "stream",
          "text": [
            "Mounted at /content/gdrive\n"
          ],
          "name": "stdout"
        }
      ]
    },
    {
      "cell_type": "markdown",
      "metadata": {
        "id": "qgwp-7tije68"
      },
      "source": [
        "Once the drive is mounted, select the folder icon in the left menu of the notebook and then open the \"gdrive\" folder. Expand \"My Drive\" and then \"Colab Notebooks\" to ensure that your queries.csv file is saved at the path of '/content/gdrive/My Drive/Colab Notebooks/Interesting Finds/queries.csv'. If not, right click to copy the path and replace it in the \"with open\" line below."
      ]
    },
    {
      "cell_type": "markdown",
      "metadata": {
        "id": "pJNuxV_y4fkV"
      },
      "source": [
        "##Import the libraries and Selenium"
      ]
    },
    {
      "cell_type": "code",
      "metadata": {
        "id": "cMexXU_nxHXn"
      },
      "source": [
        "import csv\n",
        "import os\n",
        "import requests\n",
        "import urllib\n",
        "import sys\n",
        "from selenium import webdriver\n",
        "from selenium.webdriver.common.keys import Keys\n",
        "from selenium.webdriver.common.by import By\n",
        "from selenium.webdriver.support.ui import WebDriverWait\n",
        "from selenium.webdriver.support import expected_conditions as EC\n",
        "from tqdm import tqdm\n",
        "\n"
      ],
      "execution_count": 4,
      "outputs": []
    },
    {
      "cell_type": "markdown",
      "metadata": {
        "id": "yr6lpqgZPrYQ"
      },
      "source": [
        "## Set Up Chromedriver\n",
        "This section will past the appropriate options into our Chromedriver in order to get mobile emulation. Changing the browser size alone isn't enough to mimic the mobile environment for this feature to appear."
      ]
    },
    {
      "cell_type": "code",
      "metadata": {
        "id": "v6YBuzIdyPow"
      },
      "source": [
        "mobile_emulation = {'deviceName': 'Pixel 2'}\n",
        "chrome_options = webdriver.ChromeOptions()\n",
        "chrome_options.add_experimental_option(\"mobileEmulation\", mobile_emulation)\n",
        "chrome_options.add_argument('--headless')\n",
        "chrome_options.add_argument('--no-sandbox')\n",
        "chrome_options.add_argument('--disable-dev-shm-usage')\n",
        "sys.path.insert(0,'/usr/lib/chromium-browser/chromedriver')\n",
        "browser = webdriver.Chrome('chromedriver',options=chrome_options)"
      ],
      "execution_count": 5,
      "outputs": []
    },
    {
      "cell_type": "markdown",
      "metadata": {
        "id": "QfdOLQv7Q3iy"
      },
      "source": [
        "##Create The Output Directory and csv\n",
        "This section will create a new directory titled \"Interesting Finds\" for all of our outputs (screenshots) and the .csv file indicating which queries included the feature and what links were in the feature when present)."
      ]
    },
    {
      "cell_type": "code",
      "metadata": {
        "id": "GgroMgpGRoOk"
      },
      "source": [
        "os.mkdir('/content/Interesting Finds/')\n",
        "outputdir = '/content/Interesting Finds/'\n",
        "f = open('/content/Interesting Finds/output.csv', \"w+\", newline=\"\\n\", encoding=\"utf-8-sig\")\n",
        "fw = csv.writer(f)\n",
        "fw.writerow([\"Query\",\"Interesting Finds\\?\", \"Finds Links\"])"
      ],
      "execution_count": null,
      "outputs": []
    },
    {
      "cell_type": "markdown",
      "metadata": {
        "id": "XrxIdUj8R2tz"
      },
      "source": [
        "##Get The Data From queries.csv\n",
        "Open (and read) the queries.csv file that was uploaded to your Google Drive > Colab Notebooks > Interesting Finds folder"
      ]
    },
    {
      "cell_type": "code",
      "metadata": {
        "id": "kiYXUpVbSPHZ"
      },
      "source": [
        "with open('/content/gdrive/My Drive/Colab Notebooks/Interesting Finds/queries.csv',newline='') as r:\n",
        "    reader = csv.reader(r)\n",
        "    queries = list(reader)"
      ],
      "execution_count": 7,
      "outputs": []
    },
    {
      "cell_type": "markdown",
      "metadata": {
        "id": "Rfufq8-ySTXL"
      },
      "source": [
        "##Open Google.com via Chrome Driver (named browser)\n",
        "In addition to fetching google.com, we will set our browser window size so that we can use that size for the math used to capture the full page in screenshots later."
      ]
    },
    {
      "cell_type": "code",
      "metadata": {
        "id": "nICTBB2PSil1"
      },
      "source": [
        "browser.get('https://www.google.com')\n",
        "browser.set_window_size(360,640)"
      ],
      "execution_count": 9,
      "outputs": []
    },
    {
      "cell_type": "markdown",
      "metadata": {
        "id": "k8I-pTVpTPy9"
      },
      "source": [
        "##Loop Through Each Query\n",
        "With the browser open to google.com, we will input each query from our \"queries.csv\", look on the SERP for classes that signfiy an Interesting Finds element is present and pull the links from within if it is.\n",
        "**NOTE** Scraping data from Google search results violates their Terms of Service. If you'd rather not test that, you can remove everything between the \"Interesting Finds\" and \"Start Screenshots\" comments below to ONLY pull screenshots of the search results page (screenshots are okay as long as you don't alter them in anyway to share publicly). You'll then just have to review all of your image files to determine if the feature is present rather than filtering the data in the output.csv."
      ]
    },
    {
      "cell_type": "code",
      "metadata": {
        "id": "K6DawChBUQ-C"
      },
      "source": [
        "### BEGIN THE LOOP THROUGH EACH QUERY OF YOUR QUERIES ARRAY\n",
        "for query in tqdm(queries):\n",
        "  query = str(query[0])\n",
        "  print('running ' + query)\n",
        "  e = browser.find_element_by_name(\"q\") #Find the input field to have Selenium type in the query\n",
        "  e.clear()\n",
        "  e.send_keys(query) #Selenium\n",
        "  e = browser.find_element_by_name(\"q\")\n",
        "  e.send_keys(Keys.RETURN)\n",
        "  e = browser.find_element_by_name(\"q\")\n",
        "  e = WebDriverWait(browser, 10).until(\n",
        "        EC.presence_of_element_located((By.ID, \"botstuff\"))\n",
        "    )\n",
        "  body = browser.find_elements_by_tag_name('body')[0] #This is used for screenshots further down\n",
        "\n",
        "#Interesting Finds\n",
        "  if browser.find_elements_by_css_selector('g-card.I7zR5'):\n",
        "    interestingFinds = True\n",
        "    findsCode = browser.find_elements_by_css_selector('g-card.I7zR5')\n",
        "    findsLinks = []\n",
        "    for card in findsCode:\n",
        "        links = card.find_elements_by_css_selector('div.mnr-c div div div a')\n",
        "        for link in links:\n",
        "            href = link.get_attribute('href')\n",
        "            amp = False\n",
        "            if link.get_attribute('class'):\n",
        "                classes = link.get_attribute('class')\n",
        "                if 'amp_r' in classes:\n",
        "                    amp = True\n",
        "            link = {'link': href, 'amp': amp}\n",
        "            findsLinks.append(link)\n",
        "  else:\n",
        "    interestingFinds = False\n",
        "    findsLinks = \"\"\n",
        "\n",
        "  fw.writerow([query,interestingFinds,findsLinks]) #create row in CSV\n",
        "\n",
        "\n",
        "### START SCREENSHOTS\n",
        "  imageName = query.replace(' ','-')\n",
        "  browser.save_screenshot(outputdir + imageName + '.png')\n",
        "  totalLength = body.size['height']\n",
        "  lastClip = totalLength -500\n",
        "  clipsNeeded = round(lastClip/500)\n",
        "  i = 0\n",
        "  clipHeight = 500\n",
        "  while i < clipsNeeded:\n",
        "    browser.execute_script('window.scrollTo(360,arguments[0])',clipHeight)\n",
        "    clipNum = str(i).replace(' ','')\n",
        "    browser.save_screenshot(outputdir + imageName + clipNum + '.png')\n",
        "    clipHeight = clipHeight + 500\n",
        "    i += 1"
      ],
      "execution_count": null,
      "outputs": []
    },
    {
      "cell_type": "markdown",
      "metadata": {
        "id": "hKFJsFsyUfDK"
      },
      "source": [
        "##Zip Up and Download The Screenshots and output.csv Files"
      ]
    },
    {
      "cell_type": "code",
      "metadata": {
        "id": "kggEhAAgUrTR"
      },
      "source": [
        "f.close()\n",
        "print('ready to zip')\n",
        "!zip -r /content/interestingFinds.zip '/content/Interesting Finds/'\n",
        "from google.colab import files\n",
        "files.download('/content/interestingFinds.zip')"
      ],
      "execution_count": null,
      "outputs": []
    }
  ]
}