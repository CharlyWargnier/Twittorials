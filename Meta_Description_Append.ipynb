{
  "nbformat": 4,
  "nbformat_minor": 0,
  "metadata": {
    "colab": {
      "name": "Meta_Description_Append.ipynb",
      "provenance": [],
      "include_colab_link": true
    },
    "kernelspec": {
      "name": "python3",
      "display_name": "Python 3"
    }
  },
  "cells": [
    {
      "cell_type": "markdown",
      "metadata": {
        "id": "view-in-github",
        "colab_type": "text"
      },
      "source": [
        "<a href=\"https://colab.research.google.com/github/snupet/Twittorials/blob/master/Meta_Description_Append.ipynb\" target=\"_parent\"><img src=\"https://colab.research.google.com/assets/colab-badge.svg\" alt=\"Open In Colab\"/></a>"
      ]
    },
    {
      "cell_type": "code",
      "metadata": {
        "id": "lfeav3ly-rhi",
        "colab_type": "code",
        "colab": {}
      },
      "source": [
        "#Make a copy of this and adjust \"spreadsheetName\" to your desired spreadsheet name in your Google Drive\n",
        "!pip install --upgrade -q gspread\n",
        "!pip install requests-html"
      ],
      "execution_count": null,
      "outputs": []
    },
    {
      "cell_type": "code",
      "metadata": {
        "id": "OT4CWjq8-1mm",
        "colab_type": "code",
        "colab": {}
      },
      "source": [
        "import gspread\n",
        "from google.colab import auth\n",
        "auth.authenticate_user()\n",
        "from requests_html import HTMLSession\n",
        "from oauth2client.client import GoogleCredentials\n",
        "gc = gspread.authorize(GoogleCredentials.get_application_default())"
      ],
      "execution_count": null,
      "outputs": []
    },
    {
      "cell_type": "code",
      "metadata": {
        "id": "97nET1bK-909",
        "colab_type": "code",
        "colab": {}
      },
      "source": [
        "#Replace with your spreadsheet name\n",
        "spreadsheetName = \"Tutorial\" #@param {type:\"string\"}\n",
        "\n",
        "sheet = gc.open(spreadsheetName).sheet1\n",
        "\n",
        "call_to_action = \"Click to learn more!\" #@param {type:\"string\"}\n",
        "startRow =  2 #@param {type:\"number\"}\n",
        "endRow =  6 #@param {type:\"number\"}\n",
        "originalCol =  2 #@param {type:\"number\"}\n",
        "updatedCol =  3 #@param {type:\"number\"}"
      ],
      "execution_count": null,
      "outputs": []
    },
    {
      "cell_type": "code",
      "metadata": {
        "id": "o_hrVqaijbPB",
        "colab_type": "code",
        "colab": {
          "base_uri": "https://localhost:8080/",
          "height": 309
        },
        "outputId": "6d04674b-0f9f-4ab4-df56-8691a124aa02"
      },
      "source": [
        "\n",
        "\n",
        "for i in range(int(startRow), int(endRow) + 1):\n",
        "    session = HTMLSession()\n",
        "\n",
        "    url = sheet.cell(i, 1).value\n",
        "\n",
        "    print(\"Current URL: \" + url)\n",
        "\n",
        "    meta_description_xpath = \"//meta[@name='description']/@content\"\n",
        "\n",
        "    meta_description = session.get(url).html.xpath(meta_description_xpath, first=True)\n",
        "\n",
        "    new_meta_description = f\"{meta_description} {call_to_action}\"\n",
        "    \n",
        "    print(\"Old meta description: \" + meta_description)\n",
        "    print(\"New meta description: \" + new_meta_description)\n",
        "\n",
        "    sheet.update_cell(i, originalCol, meta_description)\n",
        "    sheet.update_cell(i, updatedCol, new_meta_description)\n",
        "\n",
        "print(\"Done! Check the spreadsheet for updated meta descriptions!\")\n",
        "\n",
        "\n",
        "\n",
        "\n",
        "\n",
        "\n",
        "\n",
        "\n",
        "\n"
      ],
      "execution_count": null,
      "outputs": [
        {
          "output_type": "stream",
          "text": [
            "Current URL: https://www.ranksense.com/\n",
            "Old meta description: Implement SEO recommendations quickly and easily — see great results In 6 weeks, not 6 months!\n",
            "New meta description: Implement SEO recommendations quickly and easily — see great results In 6 weeks, not 6 months! Click to learn more!\n",
            "Current URL: https://www.ranksense.com/how-it-works/\n",
            "Old meta description: Imagine what would happen if Organic Search was suddenly no longer free. Would you continue to manage it the way you do today?\n",
            "New meta description: Imagine what would happen if Organic Search was suddenly no longer free. Would you continue to manage it the way you do today? Click to learn more!\n",
            "Current URL: https://www.ranksense.com/success-stories/\n",
            "Old meta description: We’ve been successfully helping our clients maximize their website’s revenue potential through software wins with RankSense\n",
            "New meta description: We’ve been successfully helping our clients maximize their website’s revenue potential through software wins with RankSense Click to learn more!\n",
            "Current URL: https://www.ranksense.com/reverted-frustrating-negative-seo-downtrend-six-weeks/\n",
            "Old meta description: What do you do when you’re losing organic traffic and you don’t know why? See how we reverted a traffic downtrend in six weeks.\n",
            "New meta description: What do you do when you’re losing organic traffic and you don’t know why? See how we reverted a traffic downtrend in six weeks. Click to learn more!\n",
            "Current URL: https://www.ranksense.com/doing-more-with-less/\n",
            "Old meta description: These days, it’s more valuable to think of search engines as answering engines. An effective way to write original, popular content is by answering your target audience’s most important questions. \n",
            "New meta description: These days, it’s more valuable to think of search engines as answering engines. An effective way to write original, popular content is by answering your target audience’s most important questions.  Click to learn more!\n",
            "Done! Check the spreadsheet for updated meta descriptions!\n"
          ],
          "name": "stdout"
        }
      ]
    }
  ]
}