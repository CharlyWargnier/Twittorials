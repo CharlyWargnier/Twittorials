{
  "nbformat": 4,
  "nbformat_minor": 0,
  "metadata": {
    "colab": {
      "name": "Meta_Description_Append.ipynb",
      "provenance": [],
      "authorship_tag": "ABX9TyPgTxUT7XIfGYIseiOGRROh",
      "include_colab_link": true
    },
    "kernelspec": {
      "name": "python3",
      "display_name": "Python 3"
    }
  },
  "cells": [
    {
      "cell_type": "markdown",
      "metadata": {
        "id": "view-in-github",
        "colab_type": "text"
      },
      "source": [
        "<a href=\"https://colab.research.google.com/github/snupet/Twittorials/blob/master/Meta_Description_Append.ipynb\" target=\"_parent\"><img src=\"https://colab.research.google.com/assets/colab-badge.svg\" alt=\"Open In Colab\"/></a>"
      ]
    },
    {
      "cell_type": "code",
      "metadata": {
        "id": "o_hrVqaijbPB",
        "colab_type": "code",
        "colab": {
          "base_uri": "https://localhost:8080/",
          "height": 459
        },
        "outputId": "891aa9ad-dc6e-4730-db4f-da145ea4791e"
      },
      "source": [
        "#Make a copy of this and adjust \"spreadsheetName\" to your desired spreadsheet name in your Google Drive\n",
        "#Remove these after they've been installed\n",
        "!pip install --upgrade -q gspread\n",
        "!pip install requests-html\n",
        "\n",
        "import gspread\n",
        "from google.colab import auth\n",
        "auth.authenticate_user()\n",
        "from requests_html import HTMLSession\n",
        "from oauth2client.client import GoogleCredentials\n",
        "gc = gspread.authorize(GoogleCredentials.get_application_default())\n",
        "\n",
        "#Replace with your spreadsheet name\n",
        "spreadsheetName = \"Tutorial\" #@param {type:\"string\"}\n",
        "\n",
        "sheet = gc.open(spreadsheetName).sheet1\n",
        "\n",
        "call_to_action = \"Click to learn more!\" #@param {type:\"string\"}\n",
        "startRow =  2 #@param {type:\"number\"}\n",
        "endRow =  6 #@param {type:\"number\"}\n",
        "originalCol =  2 #@param {type:\"number\"}\n",
        "updatedCol =  3 #@param {type:\"number\"}\n",
        "\n",
        "\n",
        "for i in range(int(startRow), int(endRow) + 1):\n",
        "    session = HTMLSession()\n",
        "\n",
        "    url = sheet.cell(i, 1).value\n",
        "\n",
        "    print(\"Current URL: \" + url)\n",
        "    \n",
        "    meta_description_xpath = \"//meta[@name='description']/@content\"\n",
        "\n",
        "    meta_description = session.get(url).html.xpath(meta_description_xpath, first=True)\n",
        "\n",
        "    new_meta_description = f\"{meta_description} {call_to_action}\"\n",
        "    \n",
        "    sheet.update_cell(i, originalCol, meta_description)\n",
        "    sheet.update_cell(i, updatedCol, new_meta_description)\n",
        "\n",
        "print(\"Done! Check the spreadsheet for updated meta descriptions!\")\n",
        "\n",
        "\n",
        "\n",
        "\n",
        "\n",
        "\n",
        "\n",
        "\n",
        "\n"
      ],
      "execution_count": 3,
      "outputs": [
        {
          "output_type": "stream",
          "text": [
            "Requirement already satisfied: requests-html in /usr/local/lib/python3.6/dist-packages (0.10.0)\n",
            "Requirement already satisfied: bs4 in /usr/local/lib/python3.6/dist-packages (from requests-html) (0.0.1)\n",
            "Requirement already satisfied: w3lib in /usr/local/lib/python3.6/dist-packages (from requests-html) (1.22.0)\n",
            "Requirement already satisfied: fake-useragent in /usr/local/lib/python3.6/dist-packages (from requests-html) (0.1.11)\n",
            "Requirement already satisfied: pyppeteer>=0.0.14 in /usr/local/lib/python3.6/dist-packages (from requests-html) (0.2.2)\n",
            "Requirement already satisfied: pyquery in /usr/local/lib/python3.6/dist-packages (from requests-html) (1.4.1)\n",
            "Requirement already satisfied: requests in /usr/local/lib/python3.6/dist-packages (from requests-html) (2.23.0)\n",
            "Requirement already satisfied: parse in /usr/local/lib/python3.6/dist-packages (from requests-html) (1.15.0)\n",
            "Requirement already satisfied: beautifulsoup4 in /usr/local/lib/python3.6/dist-packages (from bs4->requests-html) (4.6.3)\n",
            "Requirement already satisfied: six>=1.4.1 in /usr/local/lib/python3.6/dist-packages (from w3lib->requests-html) (1.12.0)\n",
            "Requirement already satisfied: urllib3<2.0.0,>=1.25.8 in /usr/local/lib/python3.6/dist-packages (from pyppeteer>=0.0.14->requests-html) (1.25.9)\n",
            "Requirement already satisfied: pyee<8.0.0,>=7.0.1 in /usr/local/lib/python3.6/dist-packages (from pyppeteer>=0.0.14->requests-html) (7.0.2)\n",
            "Requirement already satisfied: tqdm<5.0.0,>=4.42.1 in /usr/local/lib/python3.6/dist-packages (from pyppeteer>=0.0.14->requests-html) (4.47.0)\n",
            "Requirement already satisfied: websockets<9.0,>=8.1 in /usr/local/lib/python3.6/dist-packages (from pyppeteer>=0.0.14->requests-html) (8.1)\n",
            "Requirement already satisfied: appdirs<2.0.0,>=1.4.3 in /usr/local/lib/python3.6/dist-packages (from pyppeteer>=0.0.14->requests-html) (1.4.4)\n",
            "Requirement already satisfied: lxml>=2.1 in /usr/local/lib/python3.6/dist-packages (from pyquery->requests-html) (4.2.6)\n",
            "Requirement already satisfied: cssselect>0.7.9 in /usr/local/lib/python3.6/dist-packages (from pyquery->requests-html) (1.1.0)\n",
            "Requirement already satisfied: certifi>=2017.4.17 in /usr/local/lib/python3.6/dist-packages (from requests->requests-html) (2020.6.20)\n",
            "Requirement already satisfied: chardet<4,>=3.0.2 in /usr/local/lib/python3.6/dist-packages (from requests->requests-html) (3.0.4)\n",
            "Requirement already satisfied: idna<3,>=2.5 in /usr/local/lib/python3.6/dist-packages (from requests->requests-html) (2.9)\n",
            "Current URL: https://www.ranksense.com/\n",
            "Current URL: https://www.ranksense.com/how-it-works/\n",
            "Current URL: https://www.ranksense.com/success-stories/\n",
            "Current URL: https://www.ranksense.com/reverted-frustrating-negative-seo-downtrend-six-weeks/\n",
            "Current URL: https://www.ranksense.com/doing-more-with-less/\n",
            "Done! Check the spreadsheet for updated meta descriptions!\n"
          ],
          "name": "stdout"
        }
      ]
    }
  ]
}