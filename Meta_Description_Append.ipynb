{
  "nbformat": 4,
  "nbformat_minor": 0,
  "metadata": {
    "colab": {
      "name": "Meta_Description_Append.ipynb",
      "provenance": [],
      "authorship_tag": "ABX9TyMeDA6JI9B4//R/XMuwBrqp",
      "include_colab_link": true
    },
    "kernelspec": {
      "name": "python3",
      "display_name": "Python 3"
    }
  },
  "cells": [
    {
      "cell_type": "markdown",
      "metadata": {
        "id": "view-in-github",
        "colab_type": "text"
      },
      "source": [
        "<a href=\"https://colab.research.google.com/github/snupet/Twittorials/blob/master/Meta_Description_Append.ipynb\" target=\"_parent\"><img src=\"https://colab.research.google.com/assets/colab-badge.svg\" alt=\"Open In Colab\"/></a>"
      ]
    },
    {
      "cell_type": "code",
      "metadata": {
        "id": "o_hrVqaijbPB",
        "colab_type": "code",
        "colab": {
          "base_uri": "https://localhost:8080/",
          "height": 119
        },
        "outputId": "d228f402-4503-4397-dbb6-3a131f4212f7"
      },
      "source": [
        "#Make a copy of this and adjust \"spreadsheetName\" to your desired spreadsheet name in your Google Drive\n",
        "#Remove these after they've been installed\n",
        "!pip install --upgrade -q gspread\n",
        "!pip install requests-html\n",
        "\n",
        "import gspread\n",
        "from google.colab import auth\n",
        "auth.authenticate_user()\n",
        "from requests_html import HTMLSession\n",
        "from oauth2client.client import GoogleCredentials\n",
        "gc = gspread.authorize(GoogleCredentials.get_application_default())\n",
        "\n",
        "#Replace with your spreadsheet name\n",
        "spreadsheetName = \"Tutorial\"\n",
        "\n",
        "sheet = gc.open(spreadsheetName).sheet1\n",
        "\n",
        "call_to_action = input(\"Type the statement you would like to add to the description: \")\n",
        "startRow = input(\"Input the starting row: \")\n",
        "endRow = input(\"Input the ending row: \")\n",
        "originalCol = input(\"Enter the column you'd like the original meta descriptions to be displayed: \")\n",
        "updatedCol = input(\"Enter the column you'd like the updated meta descriptions to be displayed: \")\n",
        "\n",
        "\n",
        "for i in range(int(startRow), int(endRow) + 1):\n",
        "    session = HTMLSession()\n",
        "\n",
        "    url = sheet.cell(i, 1).value\n",
        "\n",
        "    meta_description_xpath = \"//meta[@name='description']/@content\"\n",
        "\n",
        "    meta_description = session.get(url).html.xpath(meta_description_xpath, first=True)\n",
        "\n",
        "    new_meta_description = f\"{meta_description} {call_to_action}\"\n",
        "    \n",
        "    sheet.update_cell(i, originalCol, meta_description)\n",
        "    sheet.update_cell(i, updatedCol, new_meta_description)\n",
        "\n",
        "print(\"Done! Check the spreadsheet for updated meta descriptions!\")\n",
        "\n",
        "\n",
        "\n",
        "\n",
        "\n",
        "\n",
        "\n",
        "\n",
        "\n"
      ],
      "execution_count": null,
      "outputs": [
        {
          "output_type": "stream",
          "text": [
            "Type the statement you would like to add to the description: - Test Call to Action\n",
            "Input the starting row: 1\n",
            "Input the ending row: 5\n",
            "Enter the column you'd like the original meta descriptions to be displayed: 3\n",
            "Enter the column you'd like the updated meta descriptions to be displayed: 2\n",
            "Done! Check the spreadsheet for updated meta descriptions!\n"
          ],
          "name": "stdout"
        }
      ]
    }
  ]
}