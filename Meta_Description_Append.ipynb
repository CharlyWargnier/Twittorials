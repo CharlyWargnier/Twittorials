{
  "nbformat": 4,
  "nbformat_minor": 0,
  "metadata": {
    "colab": {
      "name": "Meta_Description_Append.ipynb",
      "provenance": [],
      "authorship_tag": "ABX9TyP2Y/VaVzFW4h0M6nWftikI",
      "include_colab_link": true
    },
    "kernelspec": {
      "name": "python3",
      "display_name": "Python 3"
    }
  },
  "cells": [
    {
      "cell_type": "markdown",
      "metadata": {
        "id": "view-in-github",
        "colab_type": "text"
      },
      "source": [
        "<a href=\"https://colab.research.google.com/github/snupet/Twittorials/blob/master/Meta_Description_Append.ipynb\" target=\"_parent\"><img src=\"https://colab.research.google.com/assets/colab-badge.svg\" alt=\"Open In Colab\"/></a>"
      ]
    },
    {
      "cell_type": "code",
      "metadata": {
        "id": "lfeav3ly-rhi",
        "colab_type": "code",
        "colab": {}
      },
      "source": [
        "#Make a copy of this and adjust \"spreadsheetName\" to your desired spreadsheet name in your Google Drive\n",
        "#Installs required libraries for the code to run\n",
        "%%capture\n",
        "!pip install --upgrade -q gspread\n",
        "!pip install requests-html"
      ],
      "execution_count": 9,
      "outputs": []
    },
    {
      "cell_type": "code",
      "metadata": {
        "id": "OT4CWjq8-1mm",
        "colab_type": "code",
        "colab": {}
      },
      "source": [
        "#Imports all required libraries and authenticates Google user for proper use\n",
        "import gspread\n",
        "from google.colab import auth\n",
        "auth.authenticate_user()\n",
        "from requests_html import HTMLSession\n",
        "from oauth2client.client import GoogleCredentials\n",
        "gc = gspread.authorize(GoogleCredentials.get_application_default())\n",
        "\n",
        "# You will be prompted for authorization. Click to open a new browser window and copy the code back here."
      ],
      "execution_count": 10,
      "outputs": []
    },
    {
      "cell_type": "code",
      "metadata": {
        "id": "97nET1bK-909",
        "colab_type": "code",
        "colab": {}
      },
      "source": [
        "#Replace with your spreadsheet name\n",
        "spreadsheetName = \"Tutorial\" #@param {type:\"string\"}\n",
        "\n",
        "sheet = gc.open(spreadsheetName).sheet1\n",
        "\n",
        "#Type the statement you would like to add to the description:\n",
        "call_to_action = \"Click to learn more!\" #@param {type:\"string\"}\n",
        "\n",
        "#Input the starting row:\n",
        "startRow =  2 #@param {type:\"number\"}\n",
        "\n",
        "#Input the ending row:\n",
        "endRow =  6 #@param {type:\"number\"}\n",
        "\n",
        "#Enter the column you'd like the original meta descriptions to be displayed:\n",
        "originalCol =  2 #@param {type:\"number\"}\n",
        "\n",
        "#Enter the column you'd like the updated meta descriptions to be displayed:\n",
        "updatedCol =  3 #@param {type:\"number\"}"
      ],
      "execution_count": 11,
      "outputs": []
    },
    {
      "cell_type": "code",
      "metadata": {
        "id": "o_hrVqaijbPB",
        "colab_type": "code",
        "colab": {}
      },
      "source": [
        "\n",
        "#Loops through the spreadsheet and appends calls to action to the meta descriptions\n",
        "for i in range(int(startRow), int(endRow) + 1):\n",
        "    session = HTMLSession()\n",
        "\n",
        "    url = sheet.cell(i, 1).value\n",
        "\n",
        "    print(\"Current URL: \" + url)\n",
        "\n",
        "    meta_description_xpath = \"//meta[@name='description']/@content\"\n",
        "\n",
        "    meta_description = session.get(url).html.xpath(meta_description_xpath, first=True)\n",
        "\n",
        "    new_meta_description = f\"{meta_description} {call_to_action}\"\n",
        "    \n",
        "    print(\"Old meta description: \" + meta_description)\n",
        "    print(\"New meta description: \" + new_meta_description)\n",
        "\n",
        "    sheet.update_cell(i, originalCol, meta_description)\n",
        "    sheet.update_cell(i, updatedCol, new_meta_description)\n",
        "\n",
        "print(\"Done! Check the spreadsheet for updated meta descriptions!\")\n",
        "\n",
        "\n",
        "\n",
        "\n",
        "\n",
        "\n",
        "\n",
        "\n",
        "\n"
      ],
      "execution_count": null,
      "outputs": []
    }
  ]
}